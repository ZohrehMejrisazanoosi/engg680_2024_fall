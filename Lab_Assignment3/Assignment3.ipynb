{
 "cells": [
  {
   "cell_type": "markdown",
   "metadata": {
    "id": "5EcE3I6UPSCp"
   },
   "source": [
    "# **ENGG680 - Introduction to Digital Engineering**\n",
    "## *Lab Assignment 3: Introduction to Machine Learning (Gradient Descent, Logistic Regression)*"
   ]
  },
  {
   "cell_type": "markdown",
   "metadata": {
    "id": "_-Epr5nwPae_"
   },
   "source": [
    "## Preliminary: Certificate of Work\n"
   ]
  },
  {
   "cell_type": "markdown",
   "metadata": {
    "id": "y8jQVcs1Pcaw"
   },
   "source": [
    "*We, the undersigned, certify that this is our own work, which has been done expressly for this course, either without the assistance of any other party or where appropriate we have acknowledged the work of others. Further, we have read and understood the section in the university calendar on plagiarism/cheating/other academic misconduct and we are aware of the implications thereof. We request that the total mark for this assignment be distributed as follows among group members:*"
   ]
  },
  {
   "cell_type": "code",
   "execution_count": 1,
   "metadata": {
    "colab": {
     "base_uri": "https://localhost:8080/",
     "height": 175
    },
    "executionInfo": {
     "elapsed": 1248,
     "status": "ok",
     "timestamp": 1731103533524,
     "user": {
      "displayName": "soheil seifi",
      "userId": "10555931126092407620"
     },
     "user_tz": 420
    },
    "id": "QbQzIy4ZvJKe",
    "outputId": "c9a760a2-1ab3-479f-ab89-fbb4888495d4"
   },
   "outputs": [
    {
     "data": {
      "text/html": [
       "<div>\n",
       "<style scoped>\n",
       "    .dataframe tbody tr th:only-of-type {\n",
       "        vertical-align: middle;\n",
       "    }\n",
       "\n",
       "    .dataframe tbody tr th {\n",
       "        vertical-align: top;\n",
       "    }\n",
       "\n",
       "    .dataframe thead th {\n",
       "        text-align: right;\n",
       "    }\n",
       "</style>\n",
       "<table border=\"1\" class=\"dataframe\">\n",
       "  <thead>\n",
       "    <tr style=\"text-align: right;\">\n",
       "      <th></th>\n",
       "      <th>First Name</th>\n",
       "      <th>Last Name</th>\n",
       "      <th>Signature (Full Name, Date)</th>\n",
       "      <th>Hours</th>\n",
       "      <th>Contribution %</th>\n",
       "    </tr>\n",
       "  </thead>\n",
       "  <tbody>\n",
       "    <tr>\n",
       "      <th>Member 1</th>\n",
       "      <td>Chan Nyein</td>\n",
       "      <td>Aung</td>\n",
       "      <td>Chan Nyein Aung, 2024-11-08</td>\n",
       "      <td>20</td>\n",
       "      <td>25</td>\n",
       "    </tr>\n",
       "    <tr>\n",
       "      <th>Member 2</th>\n",
       "      <td>Soheil</td>\n",
       "      <td>Seifi</td>\n",
       "      <td>Soheil Seifi, 2024-11-08</td>\n",
       "      <td>20</td>\n",
       "      <td>25</td>\n",
       "    </tr>\n",
       "    <tr>\n",
       "      <th>Member 3</th>\n",
       "      <td>Seyedehshima</td>\n",
       "      <td>Moradi</td>\n",
       "      <td>Seyedehshima Moradi, 2024-11-08</td>\n",
       "      <td>20</td>\n",
       "      <td>25</td>\n",
       "    </tr>\n",
       "    <tr>\n",
       "      <th>Member 4</th>\n",
       "      <td>Zohreh</td>\n",
       "      <td>Mejrisazantoosi</td>\n",
       "      <td>Zohreh Mejrisazantoosi, 2024-11-08</td>\n",
       "      <td>20</td>\n",
       "      <td>25</td>\n",
       "    </tr>\n",
       "  </tbody>\n",
       "</table>\n",
       "</div>"
      ],
      "text/plain": [
       "            First Name        Last Name         Signature (Full Name, Date)  \\\n",
       "Member 1    Chan Nyein             Aung         Chan Nyein Aung, 2024-11-08   \n",
       "Member 2        Soheil            Seifi            Soheil Seifi, 2024-11-08   \n",
       "Member 3  Seyedehshima           Moradi     Seyedehshima Moradi, 2024-11-08   \n",
       "Member 4        Zohreh  Mejrisazantoosi  Zohreh Mejrisazantoosi, 2024-11-08   \n",
       "\n",
       "          Hours  Contribution %  \n",
       "Member 1     20              25  \n",
       "Member 2     20              25  \n",
       "Member 3     20              25  \n",
       "Member 4     20              25  "
      ]
     },
     "execution_count": 1,
     "metadata": {},
     "output_type": "execute_result"
    }
   ],
   "source": [
    "import pandas as pd\n",
    "\n",
    "# Define your data\n",
    "data = {\n",
    "    \"First Name\": [\"Chan Nyein\", \"Soheil\", \"Seyedehshima\", \"Zohreh\"],\n",
    "    \"Last Name\": [\"Aung\", \"Seifi\", \"Moradi\", \"Mejrisazantoosi\"],\n",
    "    \"Signature (Full Name, Date)\": [\"Chan Nyein Aung, 2024-11-08\", \"Soheil Seifi, 2024-11-08\",\n",
    "                                     \"Seyedehshima Moradi, 2024-11-08\", \"Zohreh Mejrisazantoosi, 2024-11-08\"],\n",
    "    \"Hours\": [20, 20, 20, 20],\n",
    "    \"Contribution %\": [25, 25, 25, 25]\n",
    "}\n",
    "\n",
    "# Create the DataFrame\n",
    "df = pd.DataFrame(data)\n",
    "\n",
    "df.index = [f\"Member {i+1}\" for i in range(len(df))]\n",
    "\n",
    "# Display the DataFrame\n",
    "df"
   ]
  },
  {
   "cell_type": "markdown",
   "metadata": {
    "id": "ZnU2iyO_SJ7C"
   },
   "source": [
    "|          | First Name | Last Name | Signature (Full Name, Date) | Hours | Contribution % |\n",
    "|----------|------------|-----------|-----------------------------|-------|----------------|\n",
    "| Member 1: | First Name | Last Name | Signature | Hours | Contribution |\n",
    "| Member 2: | First Name | Last Name | Signature | Hours | Contribution |\n",
    "| Member 3: | First Name | Last Name | Signature | Hours | Contribution |\n",
    "| Member 4: | First Name | Last Name | Signature | Hours | Contribution |\n"
   ]
  },
  {
   "cell_type": "markdown",
   "metadata": {
    "id": "plAEXZ4jenBM"
   },
   "source": [
    "# **Non-linear Gradient Descent (25 marks)**"
   ]
  },
  {
   "cell_type": "markdown",
   "metadata": {
    "id": "j_qxkdLImcl3"
   },
   "source": [
    "### **Observations:** Pseudorange [m]"
   ]
  },
  {
   "cell_type": "markdown",
   "metadata": {
    "id": "_HyvJ92fxZTz"
   },
   "source": [
    "![code.jpg](data:image/jpeg;base64,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)\n",
    "\n",
    "<font size=\"1.5\">Image source: *ICA Course on Toponymy. https://unstats.un.org/unsd/geoinfo/ungegn/docs/_data_icacourses/_HtmlModules/_Selfstudy/S06/S06_05b.html.*</font>"
   ]
  },
  {
   "cell_type": "markdown",
   "metadata": {
    "id": "uv7g9wn6f3tc"
   },
   "source": [
    "**Pseudorange** is the *pseudo* distance between a satellite and a satellite signal receiver on the ground. In simple words, it contains the geometric range between the satellite and the receiver, with additional associated errors."
   ]
  },
  {
   "cell_type": "markdown",
   "metadata": {
    "id": "XjRrlQe7swiW"
   },
   "source": [
    "The simplified version of the Pseudorange measurement model is:\n",
    "$$P=\\rho-cdT+ϵ_{sum}$$ and\n",
    "$$\\rho=\\sqrt{(x_s - x_r)^2 + (y_s - y_r)^2 + (z_s - z_r)^2}$$\n",
    "where\n",
    "$$\\rho=geometric\\ range$$\n",
    "$${x_s, y_s, z_s, x_r,y_r,z_r} = 3D\\ coordinates\\ of\\ satellite\\ and\\ receiver$$\n",
    "$$cdT = receiver\\ clock\\ offset$$\n",
    "$$ϵ_{sum}=general\\ errors\\ term\\ (ϵ_{sum}=\\Delta \\rho + \\Delta_{\\text{ion}} + \\Delta_{\\text{trop}} + \\epsilon_P + cdt)$$\n",
    "\n",
    "\\\\\n",
    "Note: the 3D **positions of satellites** are given in this assignment."
   ]
  },
  {
   "cell_type": "markdown",
   "metadata": {
    "id": "pBeaO6YkmmPG"
   },
   "source": [
    "### **Unknown States:** Position of receiver & receiver clock offset"
   ]
  },
  {
   "cell_type": "markdown",
   "metadata": {
    "id": "kq4I59E0iE6s"
   },
   "source": [
    "We use the psuedorange measurements to estimate the receiver's **3-dimensional position** and the **receiver clock offset:** $$X={x_r,y_r,z_r,cdT}$$.\n",
    "\n",
    "These will be our states of interest, and we are going to estimate them using Gradient Descent method\n",
    "\n",
    "\n",
    "."
   ]
  },
  {
   "cell_type": "markdown",
   "metadata": {
    "id": "sfE5Kyo1dWHm"
   },
   "source": [
    "###Step 0: Setup & Intialization"
   ]
  },
  {
   "cell_type": "markdown",
   "metadata": {
    "id": "FWL8y8dqRt-v"
   },
   "source": [
    "Step 0.1: Import necessary libraries"
   ]
  },
  {
   "cell_type": "code",
   "execution_count": 2,
   "metadata": {
    "executionInfo": {
     "elapsed": 196,
     "status": "ok",
     "timestamp": 1731103557402,
     "user": {
      "displayName": "soheil seifi",
      "userId": "10555931126092407620"
     },
     "user_tz": 420
    },
    "id": "2qxkjlPffU5i"
   },
   "outputs": [],
   "source": [
    "import numpy as np\n",
    "import matplotlib.pyplot as plt\n",
    "import pandas as pd\n",
    "import os\n"
   ]
  },
  {
   "cell_type": "markdown",
   "metadata": {
    "id": "8RK2VqOpdubq"
   },
   "source": [
    "Step 0.2: Read and parse data files"
   ]
  },
  {
   "cell_type": "code",
   "execution_count": 3,
   "metadata": {
    "executionInfo": {
     "elapsed": 170,
     "status": "ok",
     "timestamp": 1731103580878,
     "user": {
      "displayName": "soheil seifi",
      "userId": "10555931126092407620"
     },
     "user_tz": 420
    },
    "id": "cQFmPFgSer4j"
   },
   "outputs": [],
   "source": [
    "df_pseudorange = pd.read_excel('/Users/channyeinaung/UOC/ENGO664 Data/Lab/Lab3/engg680_2024_fall/Lab_Assignment3/pseudoranges1.xlsx')\n",
    "df_sat_pos = pd.read_excel('/Users/channyeinaung/UOC/ENGO664 Data/Lab/Lab3/engg680_2024_fall/Lab_Assignment3/satellite_position1.xlsx')\n",
    "\n",
    "\n",
    "pseudorange = df_pseudorange['P'].to_numpy()\n",
    "sat_pos =df_sat_pos[['x','y','z']].to_numpy()\n",
    "\n",
    "n = pseudorange.size\n",
    "# print(pseudorange)\n",
    "# print(sat_pos)"
   ]
  },
  {
   "cell_type": "markdown",
   "metadata": {
    "id": "1s87wJx9d6BR"
   },
   "source": [
    "Step 0.3: Define the groundtruth of receiver's position in ECEF (m)"
   ]
  },
  {
   "cell_type": "code",
   "execution_count": 4,
   "metadata": {
    "executionInfo": {
     "elapsed": 166,
     "status": "ok",
     "timestamp": 1731103583821,
     "user": {
      "displayName": "soheil seifi",
      "userId": "10555931126092407620"
     },
     "user_tz": 420
    },
    "id": "8M2l7sYCidJk"
   },
   "outputs": [],
   "source": [
    "GroundTruth=np.array([-1633489.37967725,\t-3651627.18250363,\t4952481.61954918])"
   ]
  },
  {
   "cell_type": "markdown",
   "metadata": {
    "id": "yvkTprjTSMQR"
   },
   "source": [
    "Step 0.4: Intialize empty arrays"
   ]
  },
  {
   "cell_type": "code",
   "execution_count": 5,
   "metadata": {
    "executionInfo": {
     "elapsed": 197,
     "status": "ok",
     "timestamp": 1731103585226,
     "user": {
      "displayName": "soheil seifi",
      "userId": "10555931126092407620"
     },
     "user_tz": 420
    },
    "id": "Sbgo4ocySPgc"
   },
   "outputs": [],
   "source": [
    "arr_cost= []\n",
    "arr_grad= []\n",
    "arr_err=[]\n",
    "steps_count=0"
   ]
  },
  {
   "cell_type": "markdown",
   "metadata": {
    "id": "ZJCtZlvVeBqD"
   },
   "source": [
    "Step 0.5: Function that\n",
    "computes the euclidean distance between satellite and receiver"
   ]
  },
  {
   "cell_type": "code",
   "execution_count": 6,
   "metadata": {
    "executionInfo": {
     "elapsed": 176,
     "status": "ok",
     "timestamp": 1731103587361,
     "user": {
      "displayName": "soheil seifi",
      "userId": "10555931126092407620"
     },
     "user_tz": 420
    },
    "id": "3rk4LH_vmdTt"
   },
   "outputs": [],
   "source": [
    "def euclidean_norm(receiver_pos, satellite_pos):\n",
    "\n",
    "    # Calculate the Euclidean norm (distance)\n",
    "    distance = np.linalg.norm(satellite_pos - receiver_pos, axis =1)\n",
    "\n",
    "    return distance\n"
   ]
  },
  {
   "cell_type": "markdown",
   "metadata": {
    "id": "HsuGfSvdea_n"
   },
   "source": [
    "### Step 1: Define the Cost Function (4 marks)\n",
    "Define a cost function that computes the sum of squared residuals between measured and predicted pseudoranges.\n",
    "\n",
    "The function's inputs are: the receiver's coordinates, clock offset, satellites' coordinates, observed pseudoranges.\n",
    "\n",
    "The function returns a single scalar.\n",
    "\n",
    "Call euclidean_norm function to calculate geometric distance."
   ]
  },
  {
   "cell_type": "code",
   "execution_count": 7,
   "metadata": {
    "executionInfo": {
     "elapsed": 186,
     "status": "ok",
     "timestamp": 1731103590028,
     "user": {
      "displayName": "soheil seifi",
      "userId": "10555931126092407620"
     },
     "user_tz": 420
    },
    "id": "N7mj7pSendpL"
   },
   "outputs": [],
   "source": [
    "# Cost function: sum of squared residuals between measured and predicted pseudoranges\n",
    "def cost_function(r_pos, cdT, s_pos, pseudorange):\n",
    "# Useing the euclidean_norm function to compute the geometric distance between receiver and satellites\n",
    "   predicted_pseudorange = euclidean_norm(r_pos, s_pos) + cdT\n",
    "\n",
    "# Calculate the residuals (diff between measured and predicted pseudoranges)\n",
    "   residuals = pseudorange - predicted_pseudorange\n",
    "\n",
    "# Compute the sum of squared residuals\n",
    "   L = np.sum(residuals**2)/ n\n",
    "\n",
    "   return L"
   ]
  },
  {
   "cell_type": "markdown",
   "metadata": {
    "id": "DfF2bMQWfTfD"
   },
   "source": [
    "### Step 2: Define the Gradient Computation Function (4 marks)\n",
    "\n",
    "Define a gradient computation function that calculates the gradient of the cost function with respect to the estimates (x_r, y_r, z_r, cdT).\n",
    "\n",
    "\n",
    "The function's inputs are: the receiver's coordinates, clock offset, satellites' coordinates, observed pseudoranges.\n",
    "\n",
    "\n",
    "The function returns a 1D numpy array that contains 4 elements.\n",
    "\n",
    "\n",
    "Call euclidean_norm function to calculate geometric distance.\n"
   ]
  },
  {
   "cell_type": "code",
   "execution_count": 8,
   "metadata": {
    "executionInfo": {
     "elapsed": 175,
     "status": "ok",
     "timestamp": 1731103592277,
     "user": {
      "displayName": "soheil seifi",
      "userId": "10555931126092407620"
     },
     "user_tz": 420
    },
    "id": "Hp4IBULcnfbx"
   },
   "outputs": [],
   "source": [
    "# Gradient of the cost function with respect to the unknowns (x_r, y_r, z_r, cdT)\n",
    "def gradient(r_pos, cdT, s_pos, pseudorange):\n",
    "    n = len(pseudorange)  # Number of satellites\n",
    "    grad = np.zeros(4)    # Initialize the gradient array\n",
    "\n",
    "    # Compute the residuals\n",
    "    predicted_pseudorange = euclidean_norm(r_pos, s_pos) + cdT\n",
    "    residuals = pseudorange - predicted_pseudorange\n",
    "\n",
    "    # Loop through each satellite to compute the gradient\n",
    "    for i in range(n):\n",
    "        # Derivatives with respect to receiver's position\n",
    "        diff = r_pos - s_pos[i]\n",
    "        distance = np.linalg.norm(diff)\n",
    "\n",
    "        if distance != 0:\n",
    "            # Update grad[0] (for x_r)\n",
    "            grad[0] = grad[0] + 2 * residuals[i] * (-diff[0] / distance)\n",
    "\n",
    "            # Update grad[1] (for y_r)\n",
    "            grad[1] = grad[1] + 2 * residuals[i] * (-diff[1] / distance)\n",
    "\n",
    "            # Update grad[2] (for z_r)\n",
    "            grad[2] = grad[2] + 2 * residuals[i] * (-diff[2] / distance)\n",
    "\n",
    "    # Partial derivative with respect to cdT (clock bias)\n",
    "    grad[3] = -2 * np.sum(residuals)\n",
    "\n",
    "    return grad"
   ]
  },
  {
   "cell_type": "markdown",
   "metadata": {
    "id": "Lyu4ASnPfsUn"
   },
   "source": [
    "### Step 3: Gradient Descent Implementation (4 marks)\n",
    "Construct the implementation function of gradient descent\n",
    "\n",
    "Replace '...' with actual implementation\n",
    "\n",
    "The function's input are: observed pseudoranges, satellites' positions, learning_rate, maximum loop iterations, tolerance\n",
    "\n",
    "The function will return a 1D numpy array that contains the optimized estimates (x_r, y_r, z_r, cdT)\n",
    "\n",
    "The function set learning_rate, max_iters and tolerance as: 0.01, 100000, 1e-6 as default values\n",
    "\n",
    "These default hyperparameters values can be overridden by passing your own values when calling the function\n"
   ]
  },
  {
   "cell_type": "code",
   "execution_count": 9,
   "metadata": {
    "executionInfo": {
     "elapsed": 185,
     "status": "ok",
     "timestamp": 1731103595408,
     "user": {
      "displayName": "soheil seifi",
      "userId": "10555931126092407620"
     },
     "user_tz": 420
    },
    "id": "MTsggeOpnn0d"
   },
   "outputs": [],
   "source": [
    "# Gradient descent algorithm for non-linear least squares estimation\n",
    "def gradient_descent(pseudorange, s_pos, learning_rate=0.01, max_iters=100000, tolerance=1e-6):\n",
    "    global steps_count\n",
    "\n",
    "    # Initialize the estimates as zeros (x_r, y_r, z_r, cdT)\n",
    "    X = np.array([0, 0, 0, 0])\n",
    "\n",
    "    for iteration in range(max_iters):\n",
    "        # Extract receiver position and clock offset from X\n",
    "        r_pos = X[:3]\n",
    "        cdT = X[3]\n",
    "\n",
    "        # Compute the cost in the current step\n",
    "        current_cost = cost_function(r_pos, cdT, s_pos, pseudorange)\n",
    "\n",
    "        # Compute the gradients in the current step\n",
    "        grad = gradient(r_pos, cdT, s_pos, pseudorange)\n",
    "\n",
    "        # Update estimates using gradient descent\n",
    "        X_new = X - learning_rate * grad\n",
    "\n",
    "        # Compute the new cost after the update\n",
    "        new_cost = cost_function(X_new[:3], X_new[3], s_pos, pseudorange)\n",
    "\n",
    "        # Break the loop if the change in cost is below the tolerance (convergence)\n",
    "        if np.abs(new_cost - current_cost) < tolerance:\n",
    "            print(\"Converged!\")\n",
    "            steps_count = iteration\n",
    "            break\n",
    "\n",
    "        # Update the parameters for the next iteration\n",
    "        X = X_new\n",
    "\n",
    "        # Collect intermediate results for cost and gradients\n",
    "        arr_cost.append(current_cost)\n",
    "        arr_grad.append(grad)\n",
    "        arr_err.append(X[:3] - GroundTruth)\n",
    "\n",
    "    return X"
   ]
  },
  {
   "cell_type": "markdown",
   "metadata": {
    "id": "E0WUIuRwhOXj"
   },
   "source": [
    "### Step 4: Parameters Optimization & Results Printing (3 marks)\n",
    "\n",
    "Call *gradient_descent* function to optimize the estimating parameters using default optimization hyperparameters\n",
    "\n",
    "Print:\n",
    "\n",
    "*   optimized parameters\n",
    "*   final position errors of receiver\n",
    "*   number of steps taken for convergence\n",
    "*   final cost value\n",
    "*   final gradient values\n",
    "\n",
    "\n",
    "\n",
    "\n",
    "\n",
    "\n"
   ]
  },
  {
   "cell_type": "code",
   "execution_count": 10,
   "metadata": {
    "colab": {
     "base_uri": "https://localhost:8080/"
    },
    "executionInfo": {
     "elapsed": 581,
     "status": "ok",
     "timestamp": 1731103600460,
     "user": {
      "displayName": "soheil seifi",
      "userId": "10555931126092407620"
     },
     "user_tz": 420
    },
    "id": "Z7t9vV_onsJF",
    "outputId": "ee6c00ff-e95d-4207-e5ad-302728a708c8"
   },
   "outputs": [
    {
     "name": "stdout",
     "output_type": "stream",
     "text": [
      "Converged!\n",
      "Optimized Parameters (x_r, y_r, z_r, cdT): [-1.63349244e+06 -3.65162953e+06  4.95248539e+06  6.44954762e+00]\n",
      "Number of Steps Taken for Convergence: 2700\n",
      "Final Gradient Values: [ 0.00161511  0.00899931 -0.02765869 -0.0156805 ]\n",
      "Final Cost Value: 0.563436913173813\n",
      "Final Position Errors of Receiver: [-3.06252556 -2.346982    3.77353113]\n"
     ]
    }
   ],
   "source": [
    "# Assuming pseudorange, sat_pos, and GroundTruth are already defined\n",
    "\n",
    "# Call gradient_descent to optimize the parameters\n",
    "optimized_params = gradient_descent(pseudorange, sat_pos)\n",
    "\n",
    "# Compute final position error and other metrics\n",
    "final_gradient = gradient(optimized_params[:3], optimized_params[3], sat_pos, pseudorange)\n",
    "final_cost = cost_function(optimized_params[:3], optimized_params[3], sat_pos, pseudorange)\n",
    "final_position_error = optimized_params[:3] - GroundTruth\n",
    "\n",
    "# Print the results\n",
    "print(\"Optimized Parameters (x_r, y_r, z_r, cdT):\", optimized_params)\n",
    "print(\"Number of Steps Taken for Convergence:\", steps_count)\n",
    "print(\"Final Gradient Values:\", final_gradient)\n",
    "print(\"Final Cost Value:\", final_cost)\n",
    "print(\"Final Position Errors of Receiver:\", final_position_error)"
   ]
  },
  {
   "cell_type": "markdown",
   "metadata": {
    "id": "J8GwTHjihoM4"
   },
   "source": [
    "### Step 5: Cost vs Steps Plot & Analysis (2 marks)\n",
    "Plot cost vs steps\n",
    "\n",
    "Use 'semilogy' to scale y-axis\n",
    "\n",
    "Label each axis\n",
    "\n",
    "Include figure title\n",
    "\n",
    "Comment on the pattern from the plot"
   ]
  },
  {
   "cell_type": "code",
   "execution_count": 11,
   "metadata": {
    "colab": {
     "base_uri": "https://localhost:8080/",
     "height": 307
    },
    "executionInfo": {
     "elapsed": 1058,
     "status": "ok",
     "timestamp": 1731104685107,
     "user": {
      "displayName": "soheil seifi",
      "userId": "10555931126092407620"
     },
     "user_tz": 420
    },
    "id": "6icMLcQaW5Tm",
    "outputId": "e90ec484-eec1-4d1b-d788-e1f9b87ce137"
   },
   "outputs": [
    {
     "data": {
      "image/png": "[encoded data removed]",
      "text/plain": [
       "<Figure size 1000x300 with 1 Axes>"
      ]
     },
     "metadata": {},
     "output_type": "display_data"
    }
   ],
   "source": [
    "#Cost vs Steps Plot & Analysis\n",
    "# Create the plot\n",
    "fig, ax = plt.subplots(nrows=1, ncols=1, figsize=(10, 3))\n",
    "\n",
    "# Plot cost vs. steps using a logarithmic scale for the y-axis\n",
    "ax.semilogy(arr_cost,)\n",
    "\n",
    "# Label the axes\n",
    "ax.set_xlabel('Steps')\n",
    "ax.set_ylabel('Cost (log scale)')\n",
    "\n",
    "# Set the title of the plot\n",
    "ax.set_title('Cost vs Steps during Gradient Descent')\n",
    "\n",
    "# Enable grid for better visualization\n",
    "ax.grid(True)\n",
    "\n",
    "# Adjust layout\n",
    "fig.tight_layout()\n",
    "\n",
    "# Show the plot\n",
    "plt.show()\n",
    "\n",
    "# Comment on the pattern\n",
    "# The graph shows an initial decrease in cost, which indicates fast convergence. The flattening curve around 2500 steps suggests convergence or near-optimal performance.\n"
   ]
  },
  {
   "cell_type": "markdown",
   "metadata": {
    "id": "XNLvLPy0igpC"
   },
   "source": [
    "### Step 6: Gradients vs Steps & Analysis(2 marks)\n",
    "Plot gradients vs steps\n",
    "\n",
    "use 'symlog' to scale y-axis\n",
    "\n",
    "use 'tick_params' and set y-axis: labelsize=8\n",
    "\n",
    "include axes' labels, legends and title\n",
    "\n",
    "Comment on the pattern from the plot"
   ]
  },
  {
   "cell_type": "code",
   "execution_count": 12,
   "metadata": {
    "colab": {
     "base_uri": "https://localhost:8080/",
     "height": 307
    },
    "executionInfo": {
     "elapsed": 1638,
     "status": "ok",
     "timestamp": 1731103715605,
     "user": {
      "displayName": "soheil seifi",
      "userId": "10555931126092407620"
     },
     "user_tz": 420
    },
    "id": "KgL59a0fidZy",
    "outputId": "3016326a-4b45-47f1-fab1-b8a1720626a3"
   },
   "outputs": [
    {
     "data": {
      "image/png": "[encoded data removed]",
      "text/plain": [
       "<Figure size 1000x300 with 1 Axes>"
      ]
     },
     "metadata": {},
     "output_type": "display_data"
    }
   ],
   "source": [
    "\n",
    "fig, ax = plt.subplots(nrows=1, ncols=1, figsize=(10, 3))\n",
    "ax.plot(arr_grad)\n",
    "\n",
    "# Set y-axis to symmetric logarithmic scale\n",
    "ax.set_yscale('symlog')\n",
    "\n",
    "# Use tick_params to set y-axis label size to 8\n",
    "ax.tick_params(axis='y', labelsize=8)\n",
    "\n",
    "# Labels, title, grid, adust layout, legend and show\n",
    "ax.set_xlabel('iteration_steps')\n",
    "ax.set_ylabel('Gradient_magnitude')\n",
    "ax.set_title('Gradients vs Steps plot')\n",
    "ax.grid(True)\n",
    "fig.tight_layout()\n",
    "plt.legend(['Gradient_Component_x', 'Gradient_Component_y', 'Gradient_Component_z', 'Gradient_Component_cdT'])\n",
    "plt.show()\n",
    "# Comment on the pattern\n",
    "#The gradient plot shows how the magnitudes change over time. Ideally, they should decrease, indicating convergence\n"
   ]
  },
  {
   "cell_type": "markdown",
   "metadata": {
    "id": "brMmpv0lirbp"
   },
   "source": [
    "### Step 7: Positioning errors vs Steps & Analysis(2 marks)\n",
    "Plot positioning errors vs steps\n",
    "\n",
    "Include axes' labels, legends and title\n",
    "\n",
    "Comment on the pattern of the plot"
   ]
  },
  {
   "cell_type": "code",
   "execution_count": 13,
   "metadata": {
    "colab": {
     "base_uri": "https://localhost:8080/",
     "height": 307
    },
    "executionInfo": {
     "elapsed": 1256,
     "status": "ok",
     "timestamp": 1731103848547,
     "user": {
      "displayName": "soheil seifi",
      "userId": "10555931126092407620"
     },
     "user_tz": 420
    },
    "id": "egyBGcrTicnj",
    "outputId": "7342747f-12f3-4dcc-d6b8-6475fed3a331"
   },
   "outputs": [
    {
     "data": {
      "image/png": "[encoded data removed]",
      "text/plain": [
       "<Figure size 1000x300 with 1 Axes>"
      ]
     },
     "metadata": {},
     "output_type": "display_data"
    }
   ],
   "source": [
    "#Positioning errors vs Steps & Analysis)\n",
    "\n",
    "arr_err = np.array(arr_err)\n",
    "\n",
    "# Positioning errors vs Steps & Analysis\n",
    "# Create the plot\n",
    "fig, ax = plt.subplots(nrows=1, ncols=1, figsize=(10, 3))\n",
    "\n",
    "# Plot positioning errors for each component (x, y, z) vs steps with labels for legend\n",
    "ax.plot(arr_err[:, 0], label='X Component Error')\n",
    "ax.plot(arr_err[:, 1], label='Y Component Error')\n",
    "ax.plot(arr_err[:, 2], label='Z Component Error')\n",
    "\n",
    "# Label the axes\n",
    "ax.set_xlabel('Steps')\n",
    "ax.set_ylabel('Positioning Error')\n",
    "\n",
    "# Set the title of the plot\n",
    "ax.set_title('Positioning Errors vs Steps during Gradient Descent')\n",
    "\n",
    "# Enable grid for better visualization\n",
    "ax.grid(True)\n",
    "\n",
    "# Add a legend\n",
    "ax.legend()\n",
    "\n",
    "# Adjust layout for better spacing\n",
    "fig.tight_layout()\n",
    "\n",
    "# Show the plot\n",
    "plt.show()\n",
    "\n",
    "\n",
    "# Comment on the pattern\n",
    "# Positioning errors typically decrease as the number of steps increases. At the beginning, the errors were large, but as the algorithm converges, the errors in x, y, and z will approach zero or near-zero, indicating that the receiver's position estimate is getting closer to the true position.\n"
   ]
  },
  {
   "cell_type": "markdown",
   "metadata": {
    "id": "Ukix4e6Ww2jW"
   },
   "source": [
    "# Hyperparameters Tuning"
   ]
  },
  {
   "cell_type": "markdown",
   "metadata": {
    "id": "kR72Xn7Ki38W"
   },
   "source": [
    "### Step 8: Tuning Learning rate (2 marks)\n",
    "\n",
    "Change learning rate to 0.01, 0.001 and repeat step 4.\n",
    "\n",
    "(*hint: you may need to adjust the maximum loop iterations in this case*)"
   ]
  },
  {
   "cell_type": "code",
   "execution_count": 14,
   "metadata": {
    "colab": {
     "base_uri": "https://localhost:8080/"
    },
    "executionInfo": {
     "elapsed": 984,
     "status": "ok",
     "timestamp": 1731103871566,
     "user": {
      "displayName": "soheil seifi",
      "userId": "10555931126092407620"
     },
     "user_tz": 420
    },
    "id": "ai5fL_xpYZrF",
    "outputId": "ebb2167a-30c1-467a-8f64-11da80a2e1e7"
   },
   "outputs": [
    {
     "name": "stdout",
     "output_type": "stream",
     "text": [
      "Converged!\n",
      "Learning rate: 0.01, Max iterations: 150000\n",
      "Optimized Parameters: [-1.63349244e+06 -3.65162953e+06  4.95248539e+06  6.44954762e+00]\n",
      "Steps Count: 2700\n",
      "Final Position Error: [-3.06252556 -2.346982    3.77353113]\n"
     ]
    }
   ],
   "source": [
    "#set learning rate to 0.01\n",
    "#re-initialize arrays and counters\n",
    "# learning rate to 0.01 and maximun iteration 150000\n",
    "results = {}\n",
    "arr_cost = []   # #re-initializing arrays and counters\n",
    "arr_grad = []\n",
    "arr_err = []\n",
    "steps_count = 0\n",
    "\n",
    "optimized_params_2 = gradient_descent(pseudorange, sat_pos, learning_rate=0.01, max_iters=150000)\n",
    "final_position_error = optimized_params_2[:3] - GroundTruth\n",
    "results[(0.01, 150000)] = {\n",
    "    \"learning_rate\": 0.01,\n",
    "    \"max_iters\": 150000,\n",
    "    \"optimized_params\": optimized_params_2,\n",
    "    \"steps_count\": steps_count,\n",
    "    \"final_position_error\": final_position_error\n",
    "}\n",
    "\n",
    "# Print the metrics for this combination\n",
    "print(\"Learning rate: 0.01, Max iterations: 150000\")\n",
    "print(f\"Optimized Parameters: {results[(0.01, 150000)]['optimized_params']}\")\n",
    "print(f\"Steps Count: {results[(0.01, 150000)]['steps_count']}\")\n",
    "print(f\"Final Position Error: {results[(0.01, 150000)]['final_position_error']}\")"
   ]
  },
  {
   "cell_type": "code",
   "execution_count": 15,
   "metadata": {
    "colab": {
     "base_uri": "https://localhost:8080/"
    },
    "executionInfo": {
     "elapsed": 5622,
     "status": "ok",
     "timestamp": 1731103887652,
     "user": {
      "displayName": "soheil seifi",
      "userId": "10555931126092407620"
     },
     "user_tz": 420
    },
    "id": "QgkMaZ8njLvi",
    "outputId": "221a9a55-847c-42fd-9d68-f386d10ca2cf"
   },
   "outputs": [
    {
     "name": "stdout",
     "output_type": "stream",
     "text": [
      "Converged!\n",
      "Learning rate: 0.001, Max iterations: 200000\n",
      "Optimized Parameters: [-1.63349244e+06 -3.65162950e+06  4.95248531e+06  6.40077571e+00]\n",
      "Steps Count: 25431\n",
      "Final Position Error: [-3.05750202 -2.31899094  3.68750284]\n"
     ]
    }
   ],
   "source": [
    "# learning rate to 0.001 and maximun iteration 200000\n",
    "#re-initialize arrays and counters\n",
    "results = {}\n",
    "arr_cost = []     #re-initializing arrays and counters\n",
    "arr_grad = []\n",
    "arr_err = []\n",
    "steps_count = 0\n",
    "\n",
    "optimized_params_3 = gradient_descent(pseudorange, sat_pos, learning_rate=0.001, max_iters=200000)\n",
    "final_position_error = optimized_params_3[:3] - GroundTruth\n",
    "results[(0.001, 200000)] = {\n",
    "    \"learning_rate\": 0.001,\n",
    "    \"max_iters\": 200000,\n",
    "    \"optimized_params\": optimized_params_3,\n",
    "    \"steps_count\": steps_count,\n",
    "    \"final_position_error\": final_position_error\n",
    "}\n",
    "\n",
    "# Print the metrics for this combination\n",
    "print(\"Learning rate: 0.001, Max iterations: 200000\")\n",
    "print(f\"Optimized Parameters: {results[(0.001, 200000)]['optimized_params']}\")\n",
    "print(f\"Steps Count: {results[(0.001, 200000)]['steps_count']}\")\n",
    "print(f\"Final Position Error: {results[(0.001, 200000)]['final_position_error']}\")"
   ]
  },
  {
   "cell_type": "markdown",
   "metadata": {
    "id": "EAu8hgW3UiCk"
   },
   "source": [
    "## Step 9: Results Analysis (2 marks)\n",
    "\n",
    "Q1. Comment on the difference that you notice after changing the learning rate. (1 mark)\n",
    "\n",
    "Q2. What is the difference between LSE and Gradient Descent? (Comment based on your results and the methodology) (1 mark)\n",
    "\n"
   ]
  },
  {
   "cell_type": "code",
   "execution_count": 16,
   "metadata": {
    "colab": {
     "base_uri": "https://localhost:8080/"
    },
    "executionInfo": {
     "elapsed": 5,
     "status": "ok",
     "timestamp": 1731104132484,
     "user": {
      "displayName": "soheil seifi",
      "userId": "10555931126092407620"
     },
     "user_tz": 420
    },
    "id": "68kAYoWL2BpQ",
    "outputId": "6ea2495d-41d3-479a-8299-fe21ec441a38"
   },
   "outputs": [
    {
     "name": "stdout",
     "output_type": "stream",
     "text": [
      "Q1:Changing the learning rate affects convergence speed and stability. A higher rate (0.01) converges faster but can be unstable, while a lower rate (0.001) is slower but more stable.\n",
      "Q2:LSE provides a direct solution for minimizing errors, while Gradient Descent iteratively approximates the minimum. Gradient Descent is more flexible but depends on learning rate and initial setup.\n"
     ]
    }
   ],
   "source": [
    "#Answers of the above questions\n",
    "print(\"Q1:Changing the learning rate affects convergence speed and stability. A higher rate (0.01) converges faster but can be unstable, while a lower rate (0.001) is slower but more stable.\")\n",
    "print(\"Q2:LSE provides a direct solution for minimizing errors, while Gradient Descent iteratively approximates the minimum. Gradient Descent is more flexible but depends on learning rate and initial setup.\")"
   ]
  },
  {
   "cell_type": "markdown",
   "metadata": {
    "id": "D4vofRZZeIbH"
   },
   "source": [
    "---\n",
    "---"
   ]
  },
  {
   "cell_type": "markdown",
   "metadata": {
    "id": "X2dAJeuON7Fm"
   },
   "source": [
    "# **Logistic Regression (50 marks)**\n",
    "\n",
    "The following dataset helps to predict phishing webpages. It is collected mainly from: PhishTank archive, MillerSmiles archive, Googleâ€™s searching operators.\n",
    "\n",
    "It can be downloaded from : https://archive.ics.uci.edu/dataset/327/phishing+websites\n",
    "\n",
    "<u>Class labels:</u>\n",
    "\n",
    "Not phishing = -1\n",
    "\n",
    "Phishing = 1\n",
    "\n",
    "\n",
    "\n",
    "Follow the steps provided to perform binary classification using logistic regression and complete the code for each part.\n"
   ]
  },
  {
   "cell_type": "markdown",
   "metadata": {
    "id": "BklVLghs8dvx"
   },
   "source": [
    "### Step 0: Import Libraries"
   ]
  },
  {
   "cell_type": "code",
   "execution_count": 17,
   "metadata": {
    "id": "GnxdphaK8eRQ"
   },
   "outputs": [],
   "source": [
    "import numpy as np\n",
    "import pandas as pd\n",
    "import matplotlib.pyplot as plt"
   ]
  },
  {
   "cell_type": "markdown",
   "metadata": {
    "id": "F2_m8WJx8peo"
   },
   "source": [
    "### Step 1: Data Input (2 mark)\n",
    "\n",
    "Use the `fetch_ucirepo(id=<ID>)`  to load the phishing dataset (id = 327) as a dataframe into the feature matrix `X` and target vector `y`.\n",
    "\n",
    "Print the size of `X` and `y`\n"
   ]
  },
  {
   "cell_type": "code",
   "execution_count": 18,
   "metadata": {
    "colab": {
     "base_uri": "https://localhost:8080/"
    },
    "executionInfo": {
     "elapsed": 14710,
     "status": "ok",
     "timestamp": 1731044442286,
     "user": {
      "displayName": "zohreh toosi",
      "userId": "08465097881084382221"
     },
     "user_tz": 420
    },
    "id": "IYeVPDQ1o0r7",
    "outputId": "f2b01dde-89a6-40e3-ccac-e178331fab3a"
   },
   "outputs": [
    {
     "name": "stdout",
     "output_type": "stream",
     "text": [
      "Requirement already satisfied: ucimlrepo in /opt/anaconda3/lib/python3.12/site-packages (0.0.7)\n",
      "Requirement already satisfied: pandas>=1.0.0 in /opt/anaconda3/lib/python3.12/site-packages (from ucimlrepo) (2.2.2)\n",
      "Requirement already satisfied: certifi>=2020.12.5 in /opt/anaconda3/lib/python3.12/site-packages (from ucimlrepo) (2024.8.30)\n",
      "Requirement already satisfied: numpy>=1.26.0 in /opt/anaconda3/lib/python3.12/site-packages (from pandas>=1.0.0->ucimlrepo) (1.26.4)\n",
      "Requirement already satisfied: python-dateutil>=2.8.2 in /opt/anaconda3/lib/python3.12/site-packages (from pandas>=1.0.0->ucimlrepo) (2.9.0.post0)\n",
      "Requirement already satisfied: pytz>=2020.1 in /opt/anaconda3/lib/python3.12/site-packages (from pandas>=1.0.0->ucimlrepo) (2024.1)\n",
      "Requirement already satisfied: tzdata>=2022.7 in /opt/anaconda3/lib/python3.12/site-packages (from pandas>=1.0.0->ucimlrepo) (2023.3)\n",
      "Requirement already satisfied: six>=1.5 in /opt/anaconda3/lib/python3.12/site-packages (from python-dateutil>=2.8.2->pandas>=1.0.0->ucimlrepo) (1.16.0)\n"
     ]
    }
   ],
   "source": [
    "!pip install ucimlrepo"
   ]
  },
  {
   "cell_type": "code",
   "execution_count": 19,
   "metadata": {
    "colab": {
     "base_uri": "https://localhost:8080/"
    },
    "executionInfo": {
     "elapsed": 1519,
     "status": "ok",
     "timestamp": 1731044445374,
     "user": {
      "displayName": "zohreh toosi",
      "userId": "08465097881084382221"
     },
     "user_tz": 420
    },
    "id": "w_xCLIlubjMQ",
    "outputId": "9942481e-f414-47d9-b187-873737e7ed4a"
   },
   "outputs": [
    {
     "name": "stdout",
     "output_type": "stream",
     "text": [
      "Size of X: (11055, 30)\n",
      "Size of y: (11055,)\n"
     ]
    }
   ],
   "source": [
    "from ucimlrepo import fetch_ucirepo\n",
    "\n",
    "# Below code fetches dataset\n",
    "phishing_websites = fetch_ucirepo(id=327)\n",
    "\n",
    "# TO DO: data (as pandas dataframes) (1 mark)\n",
    "X = pd.DataFrame(phishing_websites['data']['features'])\n",
    "y = pd.Series(phishing_websites['data']['targets'].values.ravel(), name=\"target\")\n",
    "# TO DO: display sizes of X and y (1 mark)\n",
    "print(\"Size of X:\", X.shape)\n",
    "print(\"Size of y:\", y.shape)"
   ]
  },
  {
   "cell_type": "markdown",
   "metadata": {
    "id": "yHt-RrWKBiQ8"
   },
   "source": [
    "### Step 2.1: Class label histogram (2 marks)\n",
    "\n",
    "Plot the histogram for each class label to visualise class imbalance. Additionally before calling .show() for the plot, ensure that the code displays you the exact value of the samples for each class above the respective bins."
   ]
  },
  {
   "cell_type": "code",
   "execution_count": 20,
   "metadata": {
    "colab": {
     "base_uri": "https://localhost:8080/",
     "height": 472
    },
    "executionInfo": {
     "elapsed": 725,
     "status": "ok",
     "timestamp": 1731044449238,
     "user": {
      "displayName": "zohreh toosi",
      "userId": "08465097881084382221"
     },
     "user_tz": 420
    },
    "id": "V5xiCc0u8pEW",
    "outputId": "6f9f5b6b-748d-428c-eebc-fe01d777d9b6"
   },
   "outputs": [
    {
     "data": {
      "image/png": "[encoded data removed]",
      "text/plain": [
       "<Figure size 640x480 with 1 Axes>"
      ]
     },
     "metadata": {},
     "output_type": "display_data"
    }
   ],
   "source": [
    "# TO DO: Check the class distribution of y (2 mark)\n",
    "plt.hist(y, bins=np.arange(-1.5, 2, 1), edgecolor='black', rwidth=0.7)\n",
    "plt.title('Class Label Distribution')\n",
    "plt.xlabel('Class Label')\n",
    "plt.ylabel('Frequency')\n",
    "\n",
    "# Display exact values for each bin in the histogram\n",
    "values, counts = np.unique(y, return_counts=True)\n",
    "for value, count in zip(values, counts):\n",
    "    plt.text(value, count, str(count), ha='center', va='bottom')\n",
    "\n",
    "plt.xticks([-1, 1])\n",
    "plt.show()"
   ]
  },
  {
   "cell_type": "markdown",
   "metadata": {
    "id": "OPDHbS8M8Qzn"
   },
   "source": [
    "### Step 2.2: Smaller dataset creation(2 mark)\n",
    "\n",
    "\n",
    "We also want to test if the model would still work if we used less data. Use the `train_test_split` function from sklearn to create a new feature matrix named `X_small` and a new target vector named `y_small` that contain **3%** of the data.\n",
    "\n",
    "Use random_state = 42\n"
   ]
  },
  {
   "cell_type": "code",
   "execution_count": 21,
   "metadata": {
    "colab": {
     "base_uri": "https://localhost:8080/"
    },
    "executionInfo": {
     "elapsed": 207,
     "status": "ok",
     "timestamp": 1731044453697,
     "user": {
      "displayName": "zohreh toosi",
      "userId": "08465097881084382221"
     },
     "user_tz": 420
    },
    "id": "j3v08O12F3nR",
    "outputId": "ecb7a4ae-acfd-40c8-a222-b737f7153b81"
   },
   "outputs": [
    {
     "name": "stdout",
     "output_type": "stream",
     "text": [
      "Size of X_small: (331, 30)\n",
      "Size of y_small: (331,)\n"
     ]
    }
   ],
   "source": [
    "from sklearn.model_selection import train_test_split\n",
    "# TO DO: Create a smaller dataset with 3% of the data\n",
    "X_small, _, y_small, _ = train_test_split(X, y, test_size=0.97, random_state=42)\n",
    "\n",
    "\n",
    "# TO DO: display sizes of X_small and y_small (2 mark)\n",
    "print(\"Size of X_small:\", X_small.shape)\n",
    "print(\"Size of y_small:\", y_small.shape)"
   ]
  },
  {
   "cell_type": "markdown",
   "metadata": {
    "id": "hzt-WBoTLvf5"
   },
   "source": [
    "### Step 3: Implement Machine Learning Model (6 marks)\n",
    "\n",
    "1. Import `LogisticRegression` from sklearn\n",
    "from sklearn.linear_model import LogisticRegression from sklearn.model_selection import train_test_split frtom sklearn.metrics import accuracy_score\n",
    "2. Instantiate model `LogisticRegression(max_iter=2000)`\n",
    "model = LogisticRegression(max_iter=2000)\n",
    "3. Implement the machine learning model with three different datasets:\n",
    "    - `X` and `y` (1 mark)\n",
    "    \n",
    "    X_train,X_test,y_train,y_test = train_test_split(X,y,test_size=0.3,random_test=42) model.fit(X_train,y_train)y_pred = model.predict(X_test)\n",
    "    print(\"Accuracy with full dataset(X and y):\",accuracy_score(y_test,y_pred))\n",
    "\n",
    "    - Only first two columns of `X` and `y` (1 mark)\n",
    "    \n",
    "    X_first_two_cols = X.iloc[:,2]X_train_2,X_test_2,y_train_2,y_test_2 = tarin_test_split(X_first_two_cols,y,test_size=0.3,random_state=42) model.fit(X_train_2,y_train_2)y_pred_2 = model.predict(X_test_2) print(\"Accuracy with only the first two columns of X:\",accuracy_score(y_test_2,y_pred_2))\n",
    "\n",
    "    - `X_small` and `y_small` (1 mark)\n",
    "    \n",
    "    X_train_small,X_test_small,y_train_small,y_test_small = train_test_split(X_small,y_small,test_size=0.3,random_state=42) model.fit(X_train_small,y_train_small) y_pred_small = model.predict(X_test_small) print(\"Accuracy with smaller dataset (X_small and y_small):\",accuracy_score(y_test_small,y_pred_small))"
   ]
  },
  {
   "cell_type": "markdown",
   "metadata": {
    "id": "KNIB4J7npNxt"
   },
   "source": [
    "### Step 4: Test Model (6 x 3 = 18 marks)\n",
    "\n",
    "Calculate the following for the **three different tests** implemented in Step 3\n",
    "1. data size (1 mark)\n",
    "\n",
    "Full Dataset = 11,055 samples; Smaller Dataset = approx.331 samples\n",
    "\n",
    "2. number of training samples (1 mark)\n",
    "\n",
    "Number of samples used for training - 70% of the data\n",
    "\n",
    "3. number of testing samples (1 mark)\n",
    "\n",
    "Number of samples used for testing - 30% of the data\n",
    "\n",
    "4. training accuracy (1 marks)\n",
    "\n",
    "The accuracy of the model on the training set 5\n",
    "\n",
    "5. testing accuracy (1 marks)\n",
    "\n",
    "The accuracy of the model on the testing set 6\n",
    "\n",
    "6. log loss (1 mark)\n",
    "\n",
    "Logarithmic Loss on the testing set which provides a measure of the quality of the model's probability predictions."
   ]
  },
  {
   "cell_type": "markdown",
   "metadata": {
    "id": "AsYDoTGDpRFJ"
   },
   "source": [
    "### Step 5.1: Visualize Results (3 marks)\n",
    "\n",
    "1. Create a pandas DataFrame `results` with columns: Data size, training samples, testing samples, training accuracy, testing accuracy, log loss\n",
    "2. Add these columns for each dataset to the `results` DataFrame\n",
    "3. Print `results`\n",
    "\n",
    "For any **random state** parameters from this step onwards, you can use random_state = 0;"
   ]
  },
  {
   "cell_type": "code",
   "execution_count": 22,
   "metadata": {
    "colab": {
     "base_uri": "https://localhost:8080/"
    },
    "executionInfo": {
     "elapsed": 4446,
     "status": "ok",
     "timestamp": 1731044470498,
     "user": {
      "displayName": "zohreh toosi",
      "userId": "08465097881084382221"
     },
     "user_tz": 420
    },
    "id": "YNhvpVphLfAo",
    "outputId": "20a504bc-5dfd-4019-ba76-4df9e958c378"
   },
   "outputs": [
    {
     "name": "stdout",
     "output_type": "stream",
     "text": [
      "Data size: 11055\n",
      "Number of training samples: 7738\n",
      "Number of testing samples: 3317\n",
      "Training accuracy: 0.9323\n",
      "Testing accuracy: 0.9228\n",
      "Training log loss: 0.1765\n",
      "Testing log loss: 0.1903\n",
      "Data size: 11055\n",
      "Number of training samples: 7738\n",
      "Number of testing samples: 3317\n",
      "Training accuracy: 0.5628\n",
      "Testing accuracy: 0.5568\n",
      "Training log loss: 0.6789\n",
      "Testing log loss: 0.6836\n",
      "Data size: 331\n",
      "Number of training samples: 231\n",
      "Number of testing samples: 100\n",
      "Training accuracy: 0.9437\n",
      "Testing accuracy: 0.9100\n",
      "Training log loss: 0.1552\n",
      "Testing log loss: 0.2004\n",
      "\n",
      "Results Summary:\n",
      "                     Data Size  Training Samples  Testing Samples  \\\n",
      "X and y                11055.0            7738.0           3317.0   \n",
      "First 2 columns        11055.0            7738.0           3317.0   \n",
      "X_small and y_small      331.0             231.0            100.0   \n",
      "\n",
      "                     Training Accuracy  Testing Accuracy  Log Loss  \n",
      "X and y                       0.932282          0.922822  0.190326  \n",
      "First 2 columns               0.562807          0.556828  0.683573  \n",
      "X_small and y_small           0.943723          0.910000  0.200366  \n"
     ]
    }
   ],
   "source": [
    "#TO DO: Complete steps 3,4, and 5.1 in this code block (Total 27 marks)\n",
    "from sklearn.linear_model import LogisticRegression\n",
    "from sklearn.metrics import accuracy_score, log_loss\n",
    "\n",
    "def train_and_evaluate(X, y, test_size=0.3, random_state=0):\n",
    "    # Split the data into training and testing sets\n",
    "    X_train, X_test, y_train, y_test = train_test_split(X, y, test_size=test_size, random_state=random_state)\n",
    "\n",
    "    # Instantiate the logistic regression model\n",
    "    model = LogisticRegression(max_iter=2000)\n",
    "\n",
    "    # Train the model\n",
    "    model.fit(X_train, y_train.values.ravel())\n",
    "\n",
    "    # Predict on training and testing sets\n",
    "    y_train_pred = model.predict(X_train)\n",
    "    y_test_pred = model.predict(X_test)\n",
    "\n",
    "    # Calculate accuracy and log loss\n",
    "    train_acc = accuracy_score(y_train, y_train_pred)\n",
    "    test_acc = accuracy_score(y_test, y_test_pred)\n",
    "\n",
    "    # Log loss requires probability predictions\n",
    "    y_train_prob = model.predict_proba(X_train)\n",
    "    y_test_prob = model.predict_proba(X_test)\n",
    "    train_log_loss = log_loss(y_train, y_train_prob)\n",
    "    test_log_loss = log_loss(y_test, y_test_prob)\n",
    "\n",
    "    # Print results\n",
    "    print(f\"Data size: {X.shape[0]}\")\n",
    "    print(f\"Number of training samples: {X_train.shape[0]}\")\n",
    "    print(f\"Number of testing samples: {X_test.shape[0]}\")\n",
    "    print(f\"Training accuracy: {train_acc:.4f}\")\n",
    "    print(f\"Testing accuracy: {test_acc:.4f}\")\n",
    "    print(f\"Training log loss: {train_log_loss:.4f}\")\n",
    "    print(f\"Testing log loss: {test_log_loss:.4f}\")\n",
    "\n",
    "    # Return a dictionary with results and the necessary arrays\n",
    "    return {\n",
    "        'Data Size': X.shape[0],\n",
    "        'Training Samples': X_train.shape[0],\n",
    "        'Testing Samples': X_test.shape[0],\n",
    "        'Training Accuracy': train_acc,\n",
    "        'Testing Accuracy': test_acc,\n",
    "        'Log Loss': test_log_loss,\n",
    "        'y_test': y_test,\n",
    "        'y_test_pred': y_test_pred\n",
    "    }\n",
    "# Create a DataFrame to store results\n",
    "results = pd.DataFrame(columns=['Data Size', 'Training Samples', 'Testing Samples',\n",
    "                                'Training Accuracy', 'Testing Accuracy', 'Log Loss'])\n",
    "\n",
    "# Evaluate for X and y\n",
    "eval_result = train_and_evaluate(X, y)\n",
    "results.loc['X and y'] = [eval_result['Data Size'], eval_result['Training Samples'],\n",
    "                          eval_result['Testing Samples'], eval_result['Training Accuracy'],\n",
    "                          eval_result['Testing Accuracy'], eval_result['Log Loss']]\n",
    "\n",
    "# Store y_test and y_test_pred for further analysis\n",
    "y_test_full = eval_result['y_test']\n",
    "y_test_pred_full = eval_result['y_test_pred']\n",
    "\n",
    "# Evaluate for first two columns of X and y\n",
    "eval_result = train_and_evaluate(X.iloc[:, :2], y)\n",
    "results.loc['First 2 columns'] = [eval_result['Data Size'], eval_result['Training Samples'],\n",
    "                                  eval_result['Testing Samples'], eval_result['Training Accuracy'],\n",
    "                                  eval_result['Testing Accuracy'], eval_result['Log Loss']]\n",
    "\n",
    "# Evaluate for X_small and y_small\n",
    "eval_result = train_and_evaluate(X_small, y_small)\n",
    "results.loc['X_small and y_small'] = [eval_result['Data Size'], eval_result['Training Samples'],\n",
    "                                      eval_result['Testing Samples'], eval_result['Training Accuracy'],\n",
    "                                      eval_result['Testing Accuracy'], eval_result['Log Loss']]\n",
    "\n",
    "# Print the results DataFrame\n",
    "print(\"\\nResults Summary:\")\n",
    "print(results)\n",
    "\n",
    "\n",
    "\n",
    "\n",
    "\n",
    "# Note: 70% training set, 30% testing set\n",
    "# HINT: create a function that calculates all required information"
   ]
  },
  {
   "cell_type": "markdown",
   "metadata": {
    "id": "gvcqE1HaqOJA"
   },
   "source": [
    "### Step 5.2: Visualize Classification Errors (6 marks)\n",
    "\n",
    "In this section, print the confusion matrix and the classification report to investigate the number of false positives vs. false negatives. Use the full dataset for this analysis"
   ]
  },
  {
   "cell_type": "code",
   "execution_count": 23,
   "metadata": {
    "id": "wXdpCzuEmoN2"
   },
   "outputs": [
    {
     "name": "stdout",
     "output_type": "stream",
     "text": [
      "Dimensions of y_test: (3317,)\n",
      "Dimensions of y_test_pred: (3317,)\n"
     ]
    }
   ],
   "source": [
    "# TO DO: Retrieve target vector and predicted values for testing set using full dataset and print the dimension of the predicted output (2 mark)\n",
    "print(\"Dimensions of y_test:\", y_test_full.shape)\n",
    "print(\"Dimensions of y_test_pred:\", y_test_pred_full.shape)\n",
    "# Note: 70% training set, 30% testing set"
   ]
  },
  {
   "cell_type": "code",
   "execution_count": 24,
   "metadata": {
    "colab": {
     "base_uri": "https://localhost:8080/",
     "height": 472
    },
    "executionInfo": {
     "elapsed": 897,
     "status": "ok",
     "timestamp": 1731044486342,
     "user": {
      "displayName": "zohreh toosi",
      "userId": "08465097881084382221"
     },
     "user_tz": 420
    },
    "id": "IVKHFkgiuEPx",
    "outputId": "14e0600b-c2d9-49de-f2f4-1c0ebf0b11d5"
   },
   "outputs": [
    {
     "data": {
      "image/png": "[encoded data removed]",
      "text/plain": [
       "<Figure size 640x480 with 1 Axes>"
      ]
     },
     "metadata": {},
     "output_type": "display_data"
    }
   ],
   "source": [
    "import seaborn as sns\n",
    "from sklearn.metrics import confusion_matrix, classification_report\n",
    "\n",
    "# TO DO: Calculate confusion matrix (2 marks) : conf_mat\n",
    "conf_mat = confusion_matrix(y_test_full, y_test_pred_full)\n",
    "# Below code prints confusion matrix using a heatmap\n",
    "sns.heatmap(conf_mat, xticklabels=['not phishing', 'phishing'],  yticklabels=['not phishing', 'phishing'], square=True, annot=True, cbar=False, fmt='d')\n",
    "plt.xlabel('predicted value')\n",
    "plt.ylabel('true value')\n",
    "plt.title('Confusion Matrix')\n",
    "plt.show()"
   ]
  },
  {
   "cell_type": "code",
   "execution_count": 25,
   "metadata": {
    "colab": {
     "base_uri": "https://localhost:8080/"
    },
    "executionInfo": {
     "elapsed": 188,
     "status": "ok",
     "timestamp": 1731044505038,
     "user": {
      "displayName": "zohreh toosi",
      "userId": "08465097881084382221"
     },
     "user_tz": 420
    },
    "id": "aXgrWpLGxBnv",
    "outputId": "4c16172e-4167-40cd-ad32-8297050014bd"
   },
   "outputs": [
    {
     "name": "stdout",
     "output_type": "stream",
     "text": [
      "              precision    recall  f1-score   support\n",
      "\n",
      "          -1       0.93      0.90      0.91      1498\n",
      "           1       0.92      0.95      0.93      1819\n",
      "\n",
      "    accuracy                           0.92      3317\n",
      "   macro avg       0.92      0.92      0.92      3317\n",
      "weighted avg       0.92      0.92      0.92      3317\n",
      "\n"
     ]
    }
   ],
   "source": [
    "# TO DO: Print classification report (2 marks)\n",
    "print(classification_report(y_test_full, y_test_pred_full))\n"
   ]
  },
  {
   "cell_type": "markdown",
   "metadata": {
    "id": "zg0k60Wp44Xz"
   },
   "source": [
    "### Questions (11 marks)\n",
    "1. Is the dataset imbalanced? Does it affect model performance? (1 mark)\n",
    "2. Does the model overfit or underfit for each of the 3 cases? (3 marks)\n",
    "3. How do the training and testing accuracy change depending on the amount of data used? Explain with values. (1 mark)\n",
    "4. In this case, what do a false positive and a false negative represent? Which one is worse? (2 marks)\n",
    "5. Based on your answer to question 4, would you want to maximize precision or recall? How would you do this? (2 marks)\n",
    "6. Based on the Log Loss for each of the 3 cases, what can you say about the model in each instance? What is potentially causing these differences? (2 mark)\n",
    "\n",
    "\n",
    "ANSWER HERE\n",
    "\n",
    "\n",
    "\n",
    "\n",
    "\n"
   ]
  },
  {
   "cell_type": "code",
   "execution_count": 26,
   "metadata": {
    "colab": {
     "base_uri": "https://localhost:8080/"
    },
    "executionInfo": {
     "elapsed": 179,
     "status": "ok",
     "timestamp": 1731104665192,
     "user": {
      "displayName": "soheil seifi",
      "userId": "10555931126092407620"
     },
     "user_tz": 420
    },
    "id": "uYvsHWew3ROl",
    "outputId": "ad358359-65fe-40d4-a049-884bf50fcb30"
   },
   "outputs": [
    {
     "name": "stdout",
     "output_type": "stream",
     "text": [
      "Q1: The dataset is imbalanced, with one class more frequent than the other, which may skew predictions and lower recall for the less common class.\n",
      "Q2: The model overfits on both the full and smaller datasets, with higher training than testing accuracy, meaning it memorizes patterns instead of generalizing. Using\n",
      " only the first two columns, it underfits, as both training and testing accuracies are low, showing it lacks complexity to capture data patterns.\n",
      "Q3: With more training data, training accuracy may decrease slightly, but test accuracy usually improves, helping the model generalize better and perform well on new data.\n",
      "Q4:A false positive (FP) is when the model wrongly labels a non-phishing email as phishing, while a false negative (FN) is when it misses an actual phishing email.\n",
      " False negatives are more serious here, as missing phishing emails can risk users security.\n",
      "Q5: To mitigate the risk of false negatives, maximizing recall for the phishing class is recommended. This would make the model more sensitive to phishing, even if\n",
      " it results in a slightly higher rate of false positives.\n",
      "Q6: Log Loss measures the model’s confidence in its predictions, with lower values showing higher confidence and accuracy. Differences in log loss can stem from model complexity, data amount, or class balance.\n"
     ]
    }
   ],
   "source": [
    "#Answers of the above questions\n",
    "print('Q1: The dataset is imbalanced, with one class more frequent than the other, which may skew predictions and lower recall for the less common class.')\n",
    "print('Q2: The model overfits on both the full and smaller datasets, with higher training than testing accuracy, meaning it memorizes patterns instead of generalizing. Using\\n only the first two columns, it underfits, as both training and testing accuracies are low, showing it lacks complexity to capture data patterns.')\n",
    "print('Q3: With more training data, training accuracy may decrease slightly, but test accuracy usually improves, helping the model generalize better and perform well on new data.')\n",
    "print('Q4:A false positive (FP) is when the model wrongly labels a non-phishing email as phishing, while a false negative (FN) is when it misses an actual phishing email.\\n False negatives are more serious here, as missing phishing emails can risk users security.')\n",
    "print('Q5: To mitigate the risk of false negatives, maximizing recall for the phishing class is recommended. This would make the model more sensitive to phishing, even if\\n it results in a slightly higher rate of false positives.')\n",
    "print('Q6: Log Loss measures the model’s confidence in its predictions, with lower values showing higher confidence and accuracy. Differences in log loss can stem from model complexity, data amount, or class balance.')"
   ]
  }
 ],
 "metadata": {
  "colab": {
   "provenance": []
  },
  "kernelspec": {
   "display_name": "base",
   "language": "python",
   "name": "python3"
  },
  "language_info": {
   "codemirror_mode": {
    "name": "ipython",
    "version": 3
   },
   "file_extension": ".py",
   "mimetype": "text/x-python",
   "name": "python",
   "nbconvert_exporter": "python",
   "pygments_lexer": "ipython3",
   "version": "3.12.4"
  }
 },
 "nbformat": 4,
 "nbformat_minor": 0
}
